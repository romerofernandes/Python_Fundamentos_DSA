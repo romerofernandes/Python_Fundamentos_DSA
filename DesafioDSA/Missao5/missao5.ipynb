{
 "cells": [
  {
   "cell_type": "markdown",
   "metadata": {},
   "source": [
    "# <font color='blue'>Data Science Academy - Python Fundamentos - Capítulo 7</font>\n",
    "\n",
    "## Download: http://github.com/dsacademybr"
   ]
  },
  {
   "cell_type": "code",
   "execution_count": 1,
   "metadata": {},
   "outputs": [
    {
     "name": "stdout",
     "output_type": "stream",
     "text": [
      "Versão da Linguagem Python Usada Neste Jupyter Notebook: 3.8.8\n"
     ]
    }
   ],
   "source": [
    "# Versão da Linguagem Python\n",
    "from platform import python_version\n",
    "print('Versão da Linguagem Python Usada Neste Jupyter Notebook:', python_version())"
   ]
  },
  {
   "cell_type": "markdown",
   "metadata": {},
   "source": [
    "## Missão: Analisar o Comportamento de Compra de Consumidores."
   ]
  },
  {
   "cell_type": "markdown",
   "metadata": {},
   "source": [
    "## Nível de Dificuldade: Alto"
   ]
  },
  {
   "cell_type": "markdown",
   "metadata": {},
   "source": [
    "Você recebeu a tarefa de analisar os dados de compras de um web site! Os dados estão no formato JSON e disponíveis junto com este notebook.\n",
    "\n",
    "No site, cada usuário efetua login usando sua conta pessoal e pode adquirir produtos à medida que navega pela lista de produtos oferecidos. Cada produto possui um valor de venda. Dados de idade e sexo de cada usuário foram coletados e estão fornecidos no arquivo JSON.\n",
    "\n",
    "Seu trabalho é entregar uma análise de comportamento de compra dos consumidores. Esse é um tipo de atividade comum realizado por Cientistas de Dados e o resultado deste trabalho pode ser usado, por exemplo, para alimentar um modelo de Machine Learning e fazer previsões sobre comportamentos futuros.\n",
    "\n",
    "Mas nesta missão você vai analisar o comportamento de compra dos consumidores usando o pacote Pandas da linguagem Python e seu relatório final deve incluir cada um dos seguintes itens:\n",
    "\n",
    "** Contagem de Consumidores **\n",
    "\n",
    "* Número total de consumidores\n",
    "\n",
    "\n",
    "** Análise Geral de Compras **\n",
    "\n",
    "* Número de itens exclusivos\n",
    "* Preço médio de compra\n",
    "* Número total de compras\n",
    "* Rendimento total\n",
    "\n",
    "\n",
    "** Informações Demográficas Por Gênero **\n",
    "\n",
    "* Porcentagem e contagem de compradores masculinos\n",
    "* Porcentagem e contagem de compradores do sexo feminino\n",
    "* Porcentagem e contagem de outros / não divulgados\n",
    "\n",
    "\n",
    "** Análise de Compras Por Gênero **\n",
    "\n",
    "* Número de compras\n",
    "* Preço médio de compra\n",
    "* Valor Total de Compra\n",
    "* Compras for faixa etária\n",
    "\n",
    "\n",
    "** Identifique os 5 principais compradores pelo valor total de compra e, em seguida, liste (em uma tabela): **\n",
    "\n",
    "* Login\n",
    "* Número de compras\n",
    "* Preço médio de compra\n",
    "* Valor Total de Compra\n",
    "* Itens mais populares\n",
    "\n",
    "\n",
    "** Identifique os 5 itens mais populares por contagem de compras e, em seguida, liste (em uma tabela): **\n",
    "\n",
    "* ID do item\n",
    "* Nome do item\n",
    "* Número de compras\n",
    "* Preço do item\n",
    "* Valor Total de Compra\n",
    "* Itens mais lucrativos\n",
    "\n",
    "\n",
    "** Identifique os 5 itens mais lucrativos pelo valor total de compra e, em seguida, liste (em uma tabela): **\n",
    "\n",
    "* ID do item\n",
    "* Nome do item\n",
    "* Número de compras\n",
    "* Preço do item\n",
    "* Valor Total de Compra\n",
    "\n",
    "\n",
    "** Como considerações finais: **\n",
    "\n",
    "* Seu script deve funcionar para o conjunto de dados fornecido.\n",
    "* Você deve usar a Biblioteca Pandas e o Jupyter Notebook.\n"
   ]
  },
  {
   "cell_type": "code",
   "execution_count": 1,
   "metadata": {},
   "outputs": [],
   "source": [
    "# Imports\n",
    "import pandas as pd\n",
    "import numpy as np"
   ]
  },
  {
   "cell_type": "code",
   "execution_count": 93,
   "metadata": {},
   "outputs": [
    {
     "data": {
      "text/html": [
       "<div>\n",
       "<style scoped>\n",
       "    .dataframe tbody tr th:only-of-type {\n",
       "        vertical-align: middle;\n",
       "    }\n",
       "\n",
       "    .dataframe tbody tr th {\n",
       "        vertical-align: top;\n",
       "    }\n",
       "\n",
       "    .dataframe thead th {\n",
       "        text-align: right;\n",
       "    }\n",
       "</style>\n",
       "<table border=\"1\" class=\"dataframe\">\n",
       "  <thead>\n",
       "    <tr style=\"text-align: right;\">\n",
       "      <th></th>\n",
       "      <th>Login</th>\n",
       "      <th>Idade</th>\n",
       "      <th>Sexo</th>\n",
       "      <th>Item ID</th>\n",
       "      <th>Nome do Item</th>\n",
       "      <th>Valor</th>\n",
       "    </tr>\n",
       "  </thead>\n",
       "  <tbody>\n",
       "    <tr>\n",
       "      <th>0</th>\n",
       "      <td>Aelalis34</td>\n",
       "      <td>38</td>\n",
       "      <td>Masculino</td>\n",
       "      <td>165</td>\n",
       "      <td>Bone Crushing Silver Skewer</td>\n",
       "      <td>3.37</td>\n",
       "    </tr>\n",
       "    <tr>\n",
       "      <th>1</th>\n",
       "      <td>Eolo46</td>\n",
       "      <td>21</td>\n",
       "      <td>Masculino</td>\n",
       "      <td>119</td>\n",
       "      <td>Stormbringer, Dark Blade of Ending Misery</td>\n",
       "      <td>2.32</td>\n",
       "    </tr>\n",
       "    <tr>\n",
       "      <th>2</th>\n",
       "      <td>Assastnya25</td>\n",
       "      <td>34</td>\n",
       "      <td>Masculino</td>\n",
       "      <td>174</td>\n",
       "      <td>Primitive Blade</td>\n",
       "      <td>2.46</td>\n",
       "    </tr>\n",
       "    <tr>\n",
       "      <th>3</th>\n",
       "      <td>Pheusrical25</td>\n",
       "      <td>21</td>\n",
       "      <td>Masculino</td>\n",
       "      <td>92</td>\n",
       "      <td>Final Critic</td>\n",
       "      <td>1.36</td>\n",
       "    </tr>\n",
       "    <tr>\n",
       "      <th>4</th>\n",
       "      <td>Aela59</td>\n",
       "      <td>23</td>\n",
       "      <td>Masculino</td>\n",
       "      <td>63</td>\n",
       "      <td>Stormfury Mace</td>\n",
       "      <td>1.27</td>\n",
       "    </tr>\n",
       "  </tbody>\n",
       "</table>\n",
       "</div>"
      ],
      "text/plain": [
       "          Login  Idade       Sexo  Item ID  \\\n",
       "0     Aelalis34     38  Masculino      165   \n",
       "1        Eolo46     21  Masculino      119   \n",
       "2   Assastnya25     34  Masculino      174   \n",
       "3  Pheusrical25     21  Masculino       92   \n",
       "4        Aela59     23  Masculino       63   \n",
       "\n",
       "                                Nome do Item  Valor  \n",
       "0                Bone Crushing Silver Skewer   3.37  \n",
       "1  Stormbringer, Dark Blade of Ending Misery   2.32  \n",
       "2                            Primitive Blade   2.46  \n",
       "3                               Final Critic   1.36  \n",
       "4                             Stormfury Mace   1.27  "
      ]
     },
     "execution_count": 93,
     "metadata": {},
     "output_type": "execute_result"
    }
   ],
   "source": [
    "# Carrega o arquivo\n",
    "load_file = \"dados_compras.json\"\n",
    "purchase_file = pd.read_json(load_file, orient = \"records\")\n",
    "purchase_file.head()"
   ]
  },
  {
   "cell_type": "markdown",
   "metadata": {},
   "source": [
    "## Informações Sobre os Consumidores"
   ]
  },
  {
   "cell_type": "code",
   "execution_count": 94,
   "metadata": {},
   "outputs": [
    {
     "data": {
      "text/html": [
       "<div>\n",
       "<style scoped>\n",
       "    .dataframe tbody tr th:only-of-type {\n",
       "        vertical-align: middle;\n",
       "    }\n",
       "\n",
       "    .dataframe tbody tr th {\n",
       "        vertical-align: top;\n",
       "    }\n",
       "\n",
       "    .dataframe thead th {\n",
       "        text-align: right;\n",
       "    }\n",
       "</style>\n",
       "<table border=\"1\" class=\"dataframe\">\n",
       "  <thead>\n",
       "    <tr style=\"text-align: right;\">\n",
       "      <th></th>\n",
       "      <th>Sexo</th>\n",
       "      <th>Quantidade</th>\n",
       "    </tr>\n",
       "  </thead>\n",
       "  <tbody>\n",
       "    <tr>\n",
       "      <th>0</th>\n",
       "      <td>Feminino</td>\n",
       "      <td>136</td>\n",
       "    </tr>\n",
       "    <tr>\n",
       "      <th>1</th>\n",
       "      <td>Masculino</td>\n",
       "      <td>633</td>\n",
       "    </tr>\n",
       "    <tr>\n",
       "      <th>2</th>\n",
       "      <td>Outro / Não Divulgado</td>\n",
       "      <td>11</td>\n",
       "    </tr>\n",
       "  </tbody>\n",
       "</table>\n",
       "</div>"
      ],
      "text/plain": [
       "                    Sexo  Quantidade\n",
       "0               Feminino         136\n",
       "1              Masculino         633\n",
       "2  Outro / Não Divulgado          11"
      ]
     },
     "execution_count": 94,
     "metadata": {},
     "output_type": "execute_result"
    }
   ],
   "source": [
    "#Agrupamento dos consumidores por sexo para observarmos se existe homogeneidade ou não\n",
    "purchase_consumers_sex = purchase_file.groupby(['Sexo']).Login.aggregate('count').reset_index()\n",
    "\n",
    "#Alterando o nome da coluna Login para Quantidade\n",
    "purchase_consumers_sex.rename(columns = {'Login': 'Quantidade'}, inplace=True)\n",
    "purchase_consumers_sex"
   ]
  },
  {
   "cell_type": "code",
   "execution_count": 151,
   "metadata": {},
   "outputs": [
    {
     "name": "stdout",
     "output_type": "stream",
     "text": [
      "                    Sexo  Logins Unicos      %\n",
      "0               Feminino            100  73.53\n",
      "1              Masculino            465  73.46\n",
      "2  Outro / Não Divulgado              8  72.73\n",
      "\n",
      "\n",
      "Total de consumidores unicos:  573\n"
     ]
    }
   ],
   "source": [
    "#Agrupamento dos consumidores unicos\n",
    "purchase_consumers_uniques = purchase_file.groupby(['Sexo']).aggregate({'Login': lambda x: x.nunique()}).reset_index()\n",
    "\n",
    "#Alterando o nome da coluna Login para Logins Unicos\n",
    "purchase_consumers_uniques.rename(columns = {'Login': 'Logins Unicos'}, inplace=True)\n",
    "\n",
    "#Criando coluna % Logins Unicos para ver a porcentagem de logins unicos dentro do total de compras\n",
    "purchase_consumers_uniques['%']=round(\n",
    "    (purchase_consumers_uniques['Logins Unicos']/purchase_consumers_sex.Quantidade)*100,2)\n",
    "\n",
    "print(purchase_consumers_uniques)\n",
    "print('\\n')\n",
    "total_consumidores = purchase_consumers_uniques['Logins Unicos'].sum()\n",
    "print('Total de consumidores unicos: ', total_consumidores)"
   ]
  },
  {
   "cell_type": "code",
   "execution_count": 78,
   "metadata": {},
   "outputs": [
    {
     "name": "stdout",
     "output_type": "stream",
     "text": [
      "Idade minima: 7\n",
      "Idade maxima: 45\n"
     ]
    }
   ],
   "source": [
    "#Encontrando as idades máxima e minima \n",
    "purchase_max_age = purchase_file.Idade.max()\n",
    "purchase_min_age = purchase_file.Idade.min()\n",
    "print('Idade minima: {}\\nIdade maxima: {}'.format(purchase_min_age, purchase_max_age))"
   ]
  },
  {
   "cell_type": "code",
   "execution_count": 85,
   "metadata": {},
   "outputs": [
    {
     "data": {
      "text/plain": [
       "Idade     Sexo                 \n",
       "(5, 15]   Feminino                  19\n",
       "          Masculino                 90\n",
       "          Outro / Não Divulgado      1\n",
       "(15, 25]  Feminino                  84\n",
       "          Masculino                403\n",
       "          Outro / Não Divulgado      2\n",
       "(25, 35]  Feminino                  22\n",
       "          Masculino                104\n",
       "          Outro / Não Divulgado      8\n",
       "(35, 45]  Feminino                  11\n",
       "          Masculino                 36\n",
       "          Outro / Não Divulgado      0\n",
       "Name: Login, dtype: int64"
      ]
     },
     "execution_count": 85,
     "metadata": {},
     "output_type": "execute_result"
    }
   ],
   "source": [
    "#Categorizamos a idade e agrupammos as compras por categoria de idade e por sexo do cliente\n",
    "purchase_age = purchase_file.groupby([pd.cut(purchase_file['Idade'],\n",
    "                                        np.arange(5, purchase_max_age+5, 10)),\n",
    "                                      'Sexo']).Login.count()\n",
    "\n",
    "purchase_age"
   ]
  },
  {
   "cell_type": "markdown",
   "metadata": {},
   "source": [
    "## Análise Geral de Compras"
   ]
  },
  {
   "cell_type": "code",
   "execution_count": 172,
   "metadata": {},
   "outputs": [
    {
     "data": {
      "text/html": [
       "<div>\n",
       "<style scoped>\n",
       "    .dataframe tbody tr th:only-of-type {\n",
       "        vertical-align: middle;\n",
       "    }\n",
       "\n",
       "    .dataframe tbody tr th {\n",
       "        vertical-align: top;\n",
       "    }\n",
       "\n",
       "    .dataframe thead th {\n",
       "        text-align: right;\n",
       "    }\n",
       "</style>\n",
       "<table border=\"1\" class=\"dataframe\">\n",
       "  <thead>\n",
       "    <tr style=\"text-align: right;\">\n",
       "      <th></th>\n",
       "      <th>Número de Itens Únicos</th>\n",
       "      <th>Preço Médio</th>\n",
       "      <th>Número de Compras</th>\n",
       "      <th>Total de Vendas</th>\n",
       "    </tr>\n",
       "  </thead>\n",
       "  <tbody>\n",
       "    <tr>\n",
       "      <th>0</th>\n",
       "      <td>183</td>\n",
       "      <td>$2.93</td>\n",
       "      <td>780</td>\n",
       "      <td>$2,286.33</td>\n",
       "    </tr>\n",
       "  </tbody>\n",
       "</table>\n",
       "</div>"
      ],
      "text/plain": [
       "   Número de Itens Únicos Preço Médio  Número de Compras Total de Vendas\n",
       "0                     183       $2.93                780       $2,286.33"
      ]
     },
     "execution_count": 172,
     "metadata": {},
     "output_type": "execute_result"
    }
   ],
   "source": [
    "#Solução proposta pela DSA\n",
    "# Cálculos básicos\n",
    "average_item_price = purchase_file[\"Valor\"].mean()\n",
    "total_item_price = purchase_file[\"Valor\"].sum()\n",
    "total_item_count = purchase_file[\"Valor\"].count()\n",
    "item_id = len(purchase_file[\"Item ID\"].unique())\n",
    "\n",
    "# Dataframe para os resultados\n",
    "summary_calculations = pd.DataFrame({\"Número de Itens Únicos\" : item_id,\n",
    "                                     \"Número de Compras\" : total_item_count, \n",
    "                                     \"Total de Vendas\" : total_item_price, \n",
    "                                     \"Preço Médio\" : [average_item_price]})\n",
    "\n",
    "# Data Munging\n",
    "summary_calculations = summary_calculations.round(2)\n",
    "summary_calculations [\"Preço Médio\"] = summary_calculations[\"Preço Médio\"].map(\"${:,.2f}\".format)\n",
    "summary_calculations [\"Total de Vendas\"] = summary_calculations[\"Total de Vendas\"].map(\"${:,.2f}\".format)\n",
    "summary_calculations = summary_calculations.loc[:, [\"Número de Itens Únicos\", \"Preço Médio\", \"Número de Compras\", \"Total de Vendas\"]]\n",
    "\n",
    "summary_calculations"
   ]
  },
  {
   "cell_type": "code",
   "execution_count": 216,
   "metadata": {},
   "outputs": [
    {
     "data": {
      "text/html": [
       "<div>\n",
       "<style scoped>\n",
       "    .dataframe tbody tr th:only-of-type {\n",
       "        vertical-align: middle;\n",
       "    }\n",
       "\n",
       "    .dataframe tbody tr th {\n",
       "        vertical-align: top;\n",
       "    }\n",
       "\n",
       "    .dataframe thead th {\n",
       "        text-align: right;\n",
       "    }\n",
       "</style>\n",
       "<table border=\"1\" class=\"dataframe\">\n",
       "  <thead>\n",
       "    <tr style=\"text-align: right;\">\n",
       "      <th></th>\n",
       "      <th>index</th>\n",
       "      <th>&lt;lambda&gt;</th>\n",
       "      <th>count</th>\n",
       "      <th>sum</th>\n",
       "      <th>mean</th>\n",
       "    </tr>\n",
       "  </thead>\n",
       "  <tbody>\n",
       "    <tr>\n",
       "      <th>0</th>\n",
       "      <td>Item ID</td>\n",
       "      <td>183.0</td>\n",
       "      <td>NaN</td>\n",
       "      <td>NaN</td>\n",
       "      <td>NaN</td>\n",
       "    </tr>\n",
       "    <tr>\n",
       "      <th>1</th>\n",
       "      <td>Valor</td>\n",
       "      <td>NaN</td>\n",
       "      <td>780.0</td>\n",
       "      <td>2286.33</td>\n",
       "      <td>2.93</td>\n",
       "    </tr>\n",
       "  </tbody>\n",
       "</table>\n",
       "</div>"
      ],
      "text/plain": [
       "     index  <lambda>  count      sum  mean\n",
       "0  Item ID     183.0    NaN      NaN   NaN\n",
       "1    Valor       NaN  780.0  2286.33  2.93"
      ]
     },
     "execution_count": 216,
     "metadata": {},
     "output_type": "execute_result"
    }
   ],
   "source": [
    "#Forma alternativa para se obter a mesma tabela.\n",
    "#Vejo que é uma alternativa menos interessante pois as variáveis criadas pela DSA poderiam ser usadas em outras partes\n",
    "#do código. Contudo, se esta alternativa também é valida se a única finalidade for a tabela final\n",
    "\n",
    "#Calculo basicos\n",
    "purchase_geral = purchase_file.aggregate({'Item ID': lambda x: x.nunique(), \n",
    "                                          'Valor': ['count', 'sum', 'mean']}).T.round(2).reset_index()\n",
    "purchase_geral"
   ]
  },
  {
   "cell_type": "code",
   "execution_count": 217,
   "metadata": {},
   "outputs": [
    {
     "data": {
      "text/html": [
       "<div>\n",
       "<style scoped>\n",
       "    .dataframe tbody tr th:only-of-type {\n",
       "        vertical-align: middle;\n",
       "    }\n",
       "\n",
       "    .dataframe tbody tr th {\n",
       "        vertical-align: top;\n",
       "    }\n",
       "\n",
       "    .dataframe thead th {\n",
       "        text-align: right;\n",
       "    }\n",
       "</style>\n",
       "<table border=\"1\" class=\"dataframe\">\n",
       "  <thead>\n",
       "    <tr style=\"text-align: right;\">\n",
       "      <th></th>\n",
       "      <th>Número de Itens Únicos</th>\n",
       "      <th>Número de Compras</th>\n",
       "      <th>Total de Vendas</th>\n",
       "      <th>Preço Médio</th>\n",
       "    </tr>\n",
       "  </thead>\n",
       "  <tbody>\n",
       "    <tr>\n",
       "      <th>1</th>\n",
       "      <td>183.0</td>\n",
       "      <td>780.0</td>\n",
       "      <td>2286.33</td>\n",
       "      <td>2.93</td>\n",
       "    </tr>\n",
       "  </tbody>\n",
       "</table>\n",
       "</div>"
      ],
      "text/plain": [
       "   Número de Itens Únicos  Número de Compras  Total de Vendas  Preço Médio\n",
       "1                   183.0              780.0          2286.33         2.93"
      ]
     },
     "execution_count": 217,
     "metadata": {},
     "output_type": "execute_result"
    }
   ],
   "source": [
    "#função para preencher os campos vazios utilizando o ultimo valor válido\n",
    "purchase_geral.fillna(method='ffill', inplace=True)\n",
    "\n",
    "#Exclusão da coluna index e da primeira linha\n",
    "purchase_geral.drop(index=0, columns='index', inplace=True)\n",
    "\n",
    "#Alterando o nome das colunas\n",
    "purchase_geral.columns = ['Número de Itens Únicos', 'Número de Compras', 'Total de Vendas','Preço Médio' ]\n",
    "\n",
    "purchase_geral"
   ]
  },
  {
   "cell_type": "markdown",
   "metadata": {},
   "source": [
    "## Análise Demográfica"
   ]
  },
  {
   "cell_type": "code",
   "execution_count": 101,
   "metadata": {},
   "outputs": [
    {
     "data": {
      "text/html": [
       "<div>\n",
       "<style scoped>\n",
       "    .dataframe tbody tr th:only-of-type {\n",
       "        vertical-align: middle;\n",
       "    }\n",
       "\n",
       "    .dataframe tbody tr th {\n",
       "        vertical-align: top;\n",
       "    }\n",
       "\n",
       "    .dataframe thead th {\n",
       "        text-align: right;\n",
       "    }\n",
       "</style>\n",
       "<table border=\"1\" class=\"dataframe\">\n",
       "  <thead>\n",
       "    <tr style=\"text-align: right;\">\n",
       "      <th></th>\n",
       "      <th>Sexo</th>\n",
       "      <th>Quantidade</th>\n",
       "      <th>%</th>\n",
       "    </tr>\n",
       "  </thead>\n",
       "  <tbody>\n",
       "    <tr>\n",
       "      <th>0</th>\n",
       "      <td>Feminino</td>\n",
       "      <td>136</td>\n",
       "      <td>17.0</td>\n",
       "    </tr>\n",
       "    <tr>\n",
       "      <th>1</th>\n",
       "      <td>Masculino</td>\n",
       "      <td>633</td>\n",
       "      <td>81.0</td>\n",
       "    </tr>\n",
       "    <tr>\n",
       "      <th>2</th>\n",
       "      <td>Outro / Não Divulgado</td>\n",
       "      <td>11</td>\n",
       "      <td>1.0</td>\n",
       "    </tr>\n",
       "  </tbody>\n",
       "</table>\n",
       "</div>"
      ],
      "text/plain": [
       "                    Sexo  Quantidade     %\n",
       "0               Feminino         136  17.0\n",
       "1              Masculino         633  81.0\n",
       "2  Outro / Não Divulgado          11   1.0"
      ]
     },
     "execution_count": 101,
     "metadata": {},
     "output_type": "execute_result"
    }
   ],
   "source": [
    "purchase_consumers_sex['%'] = round(100*(purchase_consumers_sex.Quantidade / purchase_consumers_sex.Quantidade.sum()))\n",
    "purchase_consumers_sex"
   ]
  },
  {
   "cell_type": "markdown",
   "metadata": {},
   "source": [
    "## Informações Demográficas Por Gênero"
   ]
  },
  {
   "cell_type": "code",
   "execution_count": 120,
   "metadata": {},
   "outputs": [
    {
     "data": {
      "text/html": [
       "<div>\n",
       "<style scoped>\n",
       "    .dataframe tbody tr th:only-of-type {\n",
       "        vertical-align: middle;\n",
       "    }\n",
       "\n",
       "    .dataframe tbody tr th {\n",
       "        vertical-align: top;\n",
       "    }\n",
       "\n",
       "    .dataframe thead th {\n",
       "        text-align: right;\n",
       "    }\n",
       "</style>\n",
       "<table border=\"1\" class=\"dataframe\">\n",
       "  <thead>\n",
       "    <tr style=\"text-align: right;\">\n",
       "      <th></th>\n",
       "      <th>Sexo</th>\n",
       "      <th>Número de Compras</th>\n",
       "      <th>Valor Médio Por Item</th>\n",
       "      <th>Total de Vendas</th>\n",
       "      <th>Total Normalizado</th>\n",
       "    </tr>\n",
       "  </thead>\n",
       "  <tbody>\n",
       "    <tr>\n",
       "      <th>0</th>\n",
       "      <td>Feminino</td>\n",
       "      <td>136</td>\n",
       "      <td>2.82</td>\n",
       "      <td>382.91</td>\n",
       "      <td>3.83</td>\n",
       "    </tr>\n",
       "    <tr>\n",
       "      <th>1</th>\n",
       "      <td>Masculino</td>\n",
       "      <td>633</td>\n",
       "      <td>2.95</td>\n",
       "      <td>1867.68</td>\n",
       "      <td>4.02</td>\n",
       "    </tr>\n",
       "    <tr>\n",
       "      <th>2</th>\n",
       "      <td>Outro / Não Divulgado</td>\n",
       "      <td>11</td>\n",
       "      <td>3.25</td>\n",
       "      <td>35.74</td>\n",
       "      <td>4.47</td>\n",
       "    </tr>\n",
       "  </tbody>\n",
       "</table>\n",
       "</div>"
      ],
      "text/plain": [
       "                    Sexo  Número de Compras  Valor Médio Por Item  \\\n",
       "0               Feminino                136                  2.82   \n",
       "1              Masculino                633                  2.95   \n",
       "2  Outro / Não Divulgado                 11                  3.25   \n",
       "\n",
       "   Total de Vendas  Total Normalizado  \n",
       "0           382.91               3.83  \n",
       "1          1867.68               4.02  \n",
       "2            35.74               4.47  "
      ]
     },
     "execution_count": 120,
     "metadata": {},
     "output_type": "execute_result"
    }
   ],
   "source": [
    "#Verificando se o valor gasto por mulheres é mais expressivo do que a quantidade que elas compram\n",
    "purchase_consumers_retorno = purchase_file.groupby(['Sexo']).aggregate({'Item ID': 'count',\n",
    "                                                                        'Valor':['mean', 'sum']\n",
    "                                                                        }).reset_index()\n",
    "\n",
    "#Alterando o nome das colunas\n",
    "purchase_consumers_retorno.columns = ['Sexo','Número de Compras', 'Valor Médio Por Item', 'Total de Vendas' ]\n",
    "\n",
    "purchase_consumers_retorno['Total Normalizado'] = purchase_consumers_retorno['Total de Vendas']/purchase_consumers_uniques['Logins Unicos']\n",
    "\n",
    "purchase_consumers_retorno = purchase_consumers_retorno.round(2)\n",
    "\n",
    "purchase_consumers_retorno"
   ]
  },
  {
   "cell_type": "markdown",
   "metadata": {},
   "source": [
    "## Análise de Compras Por Gênero"
   ]
  },
  {
   "cell_type": "code",
   "execution_count": 163,
   "metadata": {
    "scrolled": true
   },
   "outputs": [
    {
     "data": {
      "text/html": [
       "<div>\n",
       "<style scoped>\n",
       "    .dataframe tbody tr th:only-of-type {\n",
       "        vertical-align: middle;\n",
       "    }\n",
       "\n",
       "    .dataframe tbody tr th {\n",
       "        vertical-align: top;\n",
       "    }\n",
       "\n",
       "    .dataframe thead th {\n",
       "        text-align: right;\n",
       "    }\n",
       "</style>\n",
       "<table border=\"1\" class=\"dataframe\">\n",
       "  <thead>\n",
       "    <tr style=\"text-align: right;\">\n",
       "      <th></th>\n",
       "      <th>Idade</th>\n",
       "      <th>Contagem</th>\n",
       "      <th>%</th>\n",
       "      <th>Valor Unitario</th>\n",
       "      <th>Valor Total de Compra</th>\n",
       "    </tr>\n",
       "  </thead>\n",
       "  <tbody>\n",
       "    <tr>\n",
       "      <th>0</th>\n",
       "      <td>[5, 10)</td>\n",
       "      <td>28</td>\n",
       "      <td>4.89</td>\n",
       "      <td>2.98</td>\n",
       "      <td>83.46</td>\n",
       "    </tr>\n",
       "    <tr>\n",
       "      <th>1</th>\n",
       "      <td>[10, 15)</td>\n",
       "      <td>35</td>\n",
       "      <td>6.11</td>\n",
       "      <td>2.77</td>\n",
       "      <td>96.95</td>\n",
       "    </tr>\n",
       "    <tr>\n",
       "      <th>2</th>\n",
       "      <td>[15, 20)</td>\n",
       "      <td>133</td>\n",
       "      <td>23.21</td>\n",
       "      <td>2.91</td>\n",
       "      <td>386.42</td>\n",
       "    </tr>\n",
       "    <tr>\n",
       "      <th>3</th>\n",
       "      <td>[20, 25)</td>\n",
       "      <td>336</td>\n",
       "      <td>58.64</td>\n",
       "      <td>2.91</td>\n",
       "      <td>978.77</td>\n",
       "    </tr>\n",
       "    <tr>\n",
       "      <th>4</th>\n",
       "      <td>[25, 30)</td>\n",
       "      <td>125</td>\n",
       "      <td>21.82</td>\n",
       "      <td>2.96</td>\n",
       "      <td>370.33</td>\n",
       "    </tr>\n",
       "    <tr>\n",
       "      <th>5</th>\n",
       "      <td>[30, 35)</td>\n",
       "      <td>64</td>\n",
       "      <td>11.17</td>\n",
       "      <td>3.08</td>\n",
       "      <td>197.25</td>\n",
       "    </tr>\n",
       "    <tr>\n",
       "      <th>6</th>\n",
       "      <td>[35, 40)</td>\n",
       "      <td>42</td>\n",
       "      <td>7.33</td>\n",
       "      <td>2.84</td>\n",
       "      <td>119.40</td>\n",
       "    </tr>\n",
       "    <tr>\n",
       "      <th>7</th>\n",
       "      <td>[40, 45)</td>\n",
       "      <td>16</td>\n",
       "      <td>2.79</td>\n",
       "      <td>3.19</td>\n",
       "      <td>51.03</td>\n",
       "    </tr>\n",
       "    <tr>\n",
       "      <th>8</th>\n",
       "      <td>[45, 50)</td>\n",
       "      <td>1</td>\n",
       "      <td>0.17</td>\n",
       "      <td>2.72</td>\n",
       "      <td>2.72</td>\n",
       "    </tr>\n",
       "  </tbody>\n",
       "</table>\n",
       "</div>"
      ],
      "text/plain": [
       "      Idade  Contagem      %  Valor Unitario  Valor Total de Compra\n",
       "0   [5, 10)        28   4.89            2.98                  83.46\n",
       "1  [10, 15)        35   6.11            2.77                  96.95\n",
       "2  [15, 20)       133  23.21            2.91                 386.42\n",
       "3  [20, 25)       336  58.64            2.91                 978.77\n",
       "4  [25, 30)       125  21.82            2.96                 370.33\n",
       "5  [30, 35)        64  11.17            3.08                 197.25\n",
       "6  [35, 40)        42   7.33            2.84                 119.40\n",
       "7  [40, 45)        16   2.79            3.19                  51.03\n",
       "8  [45, 50)         1   0.17            2.72                   2.72"
      ]
     },
     "execution_count": 163,
     "metadata": {},
     "output_type": "execute_result"
    }
   ],
   "source": [
    "#Categorizamos a idade e agrupammos as compras por categoria de idade e por sexo do cliente\n",
    "purchase_consumers_age = purchase_file.groupby(pd.cut(purchase_file['Idade'],\n",
    "                                                      np.arange(5, purchase_max_age+10, 5),\n",
    "                                                      right=False)).agg({'Item ID': 'count',\n",
    "                                                                         'Login': lambda x: 100*(x.count()/total_consumidores),\n",
    "                                                                         'Valor':['mean', 'sum']}).round(2).reset_index()\n",
    "\n",
    "#Alterando o nome das colunas\n",
    "purchase_consumers_age.columns = ['Idade', 'Contagem', '%', 'Valor Unitario', 'Valor Total de Compra' ]\n",
    "\n",
    "purchase_consumers_age"
   ]
  },
  {
   "cell_type": "markdown",
   "metadata": {},
   "source": [
    "## Consumidores Mais Populares (Top 5)"
   ]
  },
  {
   "cell_type": "code",
   "execution_count": 168,
   "metadata": {},
   "outputs": [
    {
     "data": {
      "text/html": [
       "<div>\n",
       "<style scoped>\n",
       "    .dataframe tbody tr th:only-of-type {\n",
       "        vertical-align: middle;\n",
       "    }\n",
       "\n",
       "    .dataframe tbody tr th {\n",
       "        vertical-align: top;\n",
       "    }\n",
       "\n",
       "    .dataframe thead th {\n",
       "        text-align: right;\n",
       "    }\n",
       "</style>\n",
       "<table border=\"1\" class=\"dataframe\">\n",
       "  <thead>\n",
       "    <tr style=\"text-align: right;\">\n",
       "      <th></th>\n",
       "      <th>Valor Total de Compra</th>\n",
       "      <th>Valor Médio de Compra</th>\n",
       "      <th>Número de Compras</th>\n",
       "    </tr>\n",
       "    <tr>\n",
       "      <th>Login</th>\n",
       "      <th></th>\n",
       "      <th></th>\n",
       "      <th></th>\n",
       "    </tr>\n",
       "  </thead>\n",
       "  <tbody>\n",
       "    <tr>\n",
       "      <th>Undirrala66</th>\n",
       "      <td>17.06</td>\n",
       "      <td>3.41</td>\n",
       "      <td>5</td>\n",
       "    </tr>\n",
       "    <tr>\n",
       "      <th>Saedue76</th>\n",
       "      <td>13.56</td>\n",
       "      <td>3.39</td>\n",
       "      <td>4</td>\n",
       "    </tr>\n",
       "    <tr>\n",
       "      <th>Mindimnya67</th>\n",
       "      <td>12.74</td>\n",
       "      <td>3.18</td>\n",
       "      <td>4</td>\n",
       "    </tr>\n",
       "    <tr>\n",
       "      <th>Haellysu29</th>\n",
       "      <td>12.73</td>\n",
       "      <td>4.24</td>\n",
       "      <td>3</td>\n",
       "    </tr>\n",
       "    <tr>\n",
       "      <th>Eoda93</th>\n",
       "      <td>11.58</td>\n",
       "      <td>3.86</td>\n",
       "      <td>3</td>\n",
       "    </tr>\n",
       "  </tbody>\n",
       "</table>\n",
       "</div>"
      ],
      "text/plain": [
       "             Valor Total de Compra  Valor Médio de Compra  Número de Compras\n",
       "Login                                                                       \n",
       "Undirrala66                  17.06                   3.41                  5\n",
       "Saedue76                     13.56                   3.39                  4\n",
       "Mindimnya67                  12.74                   3.18                  4\n",
       "Haellysu29                   12.73                   4.24                  3\n",
       "Eoda93                       11.58                   3.86                  3"
      ]
     },
     "execution_count": 168,
     "metadata": {},
     "output_type": "execute_result"
    }
   ],
   "source": [
    "purchase_consumers_top = purchase_file.groupby(['Login']).aggregate({'Valor':['sum','mean','count']}).round(2)\n",
    "\n",
    "#Alterando o nome das colunas\n",
    "purchase_consumers_top.columns = ['Valor Total de Compra', 'Valor Médio de Compra', 'Número de Compras']\n",
    "\n",
    "purchase_consumers_top.sort_values(\"Valor Total de Compra\", ascending=False).head(5)"
   ]
  },
  {
   "cell_type": "markdown",
   "metadata": {},
   "source": [
    "## Itens Mais Populares"
   ]
  },
  {
   "cell_type": "code",
   "execution_count": 169,
   "metadata": {},
   "outputs": [
    {
     "data": {
      "text/html": [
       "<div>\n",
       "<style scoped>\n",
       "    .dataframe tbody tr th:only-of-type {\n",
       "        vertical-align: middle;\n",
       "    }\n",
       "\n",
       "    .dataframe tbody tr th {\n",
       "        vertical-align: top;\n",
       "    }\n",
       "\n",
       "    .dataframe thead th {\n",
       "        text-align: right;\n",
       "    }\n",
       "</style>\n",
       "<table border=\"1\" class=\"dataframe\">\n",
       "  <thead>\n",
       "    <tr style=\"text-align: right;\">\n",
       "      <th></th>\n",
       "      <th>Valor Total de Compra</th>\n",
       "      <th>Valor Médio de Compra</th>\n",
       "      <th>Número de Compras</th>\n",
       "    </tr>\n",
       "    <tr>\n",
       "      <th>Nome do Item</th>\n",
       "      <th></th>\n",
       "      <th></th>\n",
       "      <th></th>\n",
       "    </tr>\n",
       "  </thead>\n",
       "  <tbody>\n",
       "    <tr>\n",
       "      <th>Final Critic</th>\n",
       "      <td>38.60</td>\n",
       "      <td>2.76</td>\n",
       "      <td>14</td>\n",
       "    </tr>\n",
       "    <tr>\n",
       "      <th>Arcane Gem</th>\n",
       "      <td>24.53</td>\n",
       "      <td>2.23</td>\n",
       "      <td>11</td>\n",
       "    </tr>\n",
       "    <tr>\n",
       "      <th>Betrayal, Whisper of Grieving Widows</th>\n",
       "      <td>25.85</td>\n",
       "      <td>2.35</td>\n",
       "      <td>11</td>\n",
       "    </tr>\n",
       "    <tr>\n",
       "      <th>Stormcaller</th>\n",
       "      <td>34.65</td>\n",
       "      <td>3.46</td>\n",
       "      <td>10</td>\n",
       "    </tr>\n",
       "    <tr>\n",
       "      <th>Woeful Adamantite Claymore</th>\n",
       "      <td>11.16</td>\n",
       "      <td>1.24</td>\n",
       "      <td>9</td>\n",
       "    </tr>\n",
       "  </tbody>\n",
       "</table>\n",
       "</div>"
      ],
      "text/plain": [
       "                                      Valor Total de Compra  \\\n",
       "Nome do Item                                                  \n",
       "Final Critic                                          38.60   \n",
       "Arcane Gem                                            24.53   \n",
       "Betrayal, Whisper of Grieving Widows                  25.85   \n",
       "Stormcaller                                           34.65   \n",
       "Woeful Adamantite Claymore                            11.16   \n",
       "\n",
       "                                      Valor Médio de Compra  Número de Compras  \n",
       "Nome do Item                                                                    \n",
       "Final Critic                                           2.76                 14  \n",
       "Arcane Gem                                             2.23                 11  \n",
       "Betrayal, Whisper of Grieving Widows                   2.35                 11  \n",
       "Stormcaller                                            3.46                 10  \n",
       "Woeful Adamantite Claymore                             1.24                  9  "
      ]
     },
     "execution_count": 169,
     "metadata": {},
     "output_type": "execute_result"
    }
   ],
   "source": [
    "purchase_item_top = purchase_file.groupby(['Nome do Item']).aggregate({'Valor':['sum','mean','count']}).round(2)\n",
    "\n",
    "#Alterando o nome das colunas\n",
    "purchase_item_top.columns = ['Valor Total de Compra', 'Valor Médio de Compra', 'Número de Compras']\n",
    "\n",
    "purchase_item_top.sort_values('Número de Compras', ascending=False).head(5)"
   ]
  },
  {
   "cell_type": "markdown",
   "metadata": {},
   "source": [
    "## Itens Mais Lucrativos"
   ]
  },
  {
   "cell_type": "code",
   "execution_count": 170,
   "metadata": {},
   "outputs": [
    {
     "data": {
      "text/html": [
       "<div>\n",
       "<style scoped>\n",
       "    .dataframe tbody tr th:only-of-type {\n",
       "        vertical-align: middle;\n",
       "    }\n",
       "\n",
       "    .dataframe tbody tr th {\n",
       "        vertical-align: top;\n",
       "    }\n",
       "\n",
       "    .dataframe thead th {\n",
       "        text-align: right;\n",
       "    }\n",
       "</style>\n",
       "<table border=\"1\" class=\"dataframe\">\n",
       "  <thead>\n",
       "    <tr style=\"text-align: right;\">\n",
       "      <th></th>\n",
       "      <th>Valor Total de Compra</th>\n",
       "      <th>Valor Médio de Compra</th>\n",
       "      <th>Número de Compras</th>\n",
       "    </tr>\n",
       "    <tr>\n",
       "      <th>Nome do Item</th>\n",
       "      <th></th>\n",
       "      <th></th>\n",
       "      <th></th>\n",
       "    </tr>\n",
       "  </thead>\n",
       "  <tbody>\n",
       "    <tr>\n",
       "      <th>Final Critic</th>\n",
       "      <td>38.60</td>\n",
       "      <td>2.76</td>\n",
       "      <td>14</td>\n",
       "    </tr>\n",
       "    <tr>\n",
       "      <th>Retribution Axe</th>\n",
       "      <td>37.26</td>\n",
       "      <td>4.14</td>\n",
       "      <td>9</td>\n",
       "    </tr>\n",
       "    <tr>\n",
       "      <th>Stormcaller</th>\n",
       "      <td>34.65</td>\n",
       "      <td>3.46</td>\n",
       "      <td>10</td>\n",
       "    </tr>\n",
       "    <tr>\n",
       "      <th>Spectral Diamond Doomblade</th>\n",
       "      <td>29.75</td>\n",
       "      <td>4.25</td>\n",
       "      <td>7</td>\n",
       "    </tr>\n",
       "    <tr>\n",
       "      <th>Orenmir</th>\n",
       "      <td>29.70</td>\n",
       "      <td>4.95</td>\n",
       "      <td>6</td>\n",
       "    </tr>\n",
       "  </tbody>\n",
       "</table>\n",
       "</div>"
      ],
      "text/plain": [
       "                            Valor Total de Compra  Valor Médio de Compra  \\\n",
       "Nome do Item                                                               \n",
       "Final Critic                                38.60                   2.76   \n",
       "Retribution Axe                             37.26                   4.14   \n",
       "Stormcaller                                 34.65                   3.46   \n",
       "Spectral Diamond Doomblade                  29.75                   4.25   \n",
       "Orenmir                                     29.70                   4.95   \n",
       "\n",
       "                            Número de Compras  \n",
       "Nome do Item                                   \n",
       "Final Critic                               14  \n",
       "Retribution Axe                             9  \n",
       "Stormcaller                                10  \n",
       "Spectral Diamond Doomblade                  7  \n",
       "Orenmir                                     6  "
      ]
     },
     "execution_count": 170,
     "metadata": {},
     "output_type": "execute_result"
    }
   ],
   "source": [
    "purchase_item_top.sort_values('Valor Total de Compra', ascending=False).head(5)"
   ]
  },
  {
   "cell_type": "markdown",
   "metadata": {
    "collapsed": true
   },
   "source": [
    "## Fim"
   ]
  },
  {
   "cell_type": "markdown",
   "metadata": {
    "collapsed": true
   },
   "source": [
    "\n",
    "### Obrigado\n",
    "\n",
    "### Visite o Blog da Data Science Academy - <a href=\"http://blog.dsacademy.com.br\">Blog DSA</a>\n"
   ]
  }
 ],
 "metadata": {
  "kernelspec": {
   "display_name": "Python 3",
   "language": "python",
   "name": "python3"
  },
  "language_info": {
   "codemirror_mode": {
    "name": "ipython",
    "version": 3
   },
   "file_extension": ".py",
   "mimetype": "text/x-python",
   "name": "python",
   "nbconvert_exporter": "python",
   "pygments_lexer": "ipython3",
   "version": "3.8.8"
  }
 },
 "nbformat": 4,
 "nbformat_minor": 2
}
