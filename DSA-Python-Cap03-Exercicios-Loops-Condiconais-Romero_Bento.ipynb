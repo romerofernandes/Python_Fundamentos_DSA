{
 "cells": [
  {
   "cell_type": "markdown",
   "metadata": {},
   "source": [
    "# <font color='blue'>Data Science Academy - Python Fundamentos - Capítulo 3</font>\n",
    "\n",
    "## Download: http://github.com/dsacademybr"
   ]
  },
  {
   "cell_type": "code",
   "execution_count": 2,
   "metadata": {},
   "outputs": [
    {
     "name": "stdout",
     "output_type": "stream",
     "text": [
      "Versão da Linguagem Python Usada Neste Jupyter Notebook: 3.8.8\n"
     ]
    }
   ],
   "source": [
    "# Versão da Linguagem Python\n",
    "from platform import python_version\n",
    "print('Versão da Linguagem Python Usada Neste Jupyter Notebook:', python_version())"
   ]
  },
  {
   "cell_type": "markdown",
   "metadata": {},
   "source": [
    "## Exercícios - Loops e Condiconais"
   ]
  },
  {
   "cell_type": "code",
   "execution_count": 11,
   "metadata": {},
   "outputs": [
    {
     "name": "stdout",
     "output_type": "stream",
     "text": [
      "Qual dia da semana é hoje?\n",
      "Sábado\n",
      "Hoje é dia de descanso!\n"
     ]
    }
   ],
   "source": [
    "# Exercício 1 - Crie uma estrutura que pergunte ao usuário qual o dia da semana. Se o dia for igual a Domingo ou \n",
    "# igual a sábado, imprima na tela \"Hoje é dia de descanso\", caso contrário imprima na tela \"Você precisa trabalhar!\"\n",
    "\n",
    "# Obtém a informação do usuário sobre qual é o dia da semana\n",
    "dia_da_semana = input('Qual dia da semana é hoje?\\n')\n",
    "\n",
    "# Após colocar todas as letras da variável dia_da_semana como minúsculas é verificado se a\n",
    "# o dia informado pelo usuário está na lista de dias de descanso.\n",
    "# Obs.: foi colocado o dia 'sábado' duplicado pois o usuário pode digitar com ou sem o acento\n",
    "if dia_da_semana.lower() in ['sabado', 'sábado', 'domingo']:\n",
    "    print('Hoje é dia de descanso!')\n",
    "else:\n",
    "    print('Você precisa trabalhar!')"
   ]
  },
  {
   "cell_type": "code",
   "execution_count": 13,
   "metadata": {},
   "outputs": [
    {
     "name": "stdout",
     "output_type": "stream",
     "text": [
      "A lista de frutas não possui morango.\n"
     ]
    }
   ],
   "source": [
    "# Exercício 2 - Crie uma lista de 5 frutas e verifique se a fruta 'Morango' faz parte da lista\n",
    "\n",
    "list_frutas = ['Laranja', 'Banana', 'Uva', 'Melancia', 'Maça']\n",
    "\n",
    "if 'Morango' in list_frutas:\n",
    "    print('A lista de frutas possui Morango.')\n",
    "else:\n",
    "    print('A lista de frutas não possui Morango.')"
   ]
  },
  {
   "cell_type": "code",
   "execution_count": 19,
   "metadata": {},
   "outputs": [
    {
     "name": "stdout",
     "output_type": "stream",
     "text": [
      "Tupla:  (1, 2, 3, 4) \n",
      "Lista:  [2, 4, 6, 8]\n"
     ]
    }
   ],
   "source": [
    "# Exercício 3 - Crie uma tupla de 4 elementos, multiplique cada elemento da tupla por 2 e guarde os resultados em uma \n",
    "# lista\n",
    "\n",
    "#tupla com 4 elementos\n",
    "tupla_4_elem = (1, 2, 3, 4)\n",
    "\n",
    "#lista com o dobro de cada elemento da tupla\n",
    "lista_4_elem = [2*x for x in tupla_4_elem]\n",
    "\n",
    "print('Tupla: ', tupla_4_elem, '\\nLista: ', lista_4_elem)"
   ]
  },
  {
   "cell_type": "code",
   "execution_count": 26,
   "metadata": {},
   "outputs": [
    {
     "name": "stdout",
     "output_type": "stream",
     "text": [
      "[100, 102, 104, 106, 108, 110, 112, 114, 116, 118, 120, 122, 124, 126, 128, 130, 132, 134, 136, 138, 140, 142, 144, 146, 148, 150]\n"
     ]
    }
   ],
   "source": [
    "# Exercício 4 - Crie uma sequência de números pares entre 100 e 150 e imprima na tela\n",
    "\n",
    "# uma forma pythonica de se criar uma lista atraves de um range, outra forma pythonica seria list(range(100, 151, 2))\n",
    "sequencia = [*range(100, 151, 2)] \n",
    "print(sequencia)"
   ]
  },
  {
   "cell_type": "code",
   "execution_count": 27,
   "metadata": {},
   "outputs": [
    {
     "name": "stdout",
     "output_type": "stream",
     "text": [
      "Temperatura: 40\n",
      "Temperatura: 39\n",
      "Temperatura: 38\n",
      "Temperatura: 37\n",
      "Temperatura: 36\n"
     ]
    }
   ],
   "source": [
    "# Exercício 5 - Crie uma variável chamada temperatura e atribua o valor 40. Enquanto temperatura for maior que 35, \n",
    "# imprima as temperaturas na tela\n",
    "\n",
    "temperatura = 40\n",
    "\n",
    "while temperatura > 35:\n",
    "    print(f'Temperatura: {temperatura}')\n",
    "    temperatura -=1"
   ]
  },
  {
   "cell_type": "code",
   "execution_count": 28,
   "metadata": {},
   "outputs": [
    {
     "name": "stdout",
     "output_type": "stream",
     "text": [
      "0\n",
      "1\n",
      "2\n",
      "3\n",
      "4\n",
      "5\n",
      "6\n",
      "7\n",
      "8\n",
      "9\n",
      "10\n",
      "11\n",
      "12\n",
      "13\n",
      "14\n",
      "15\n",
      "16\n",
      "17\n",
      "18\n",
      "19\n",
      "20\n",
      "21\n",
      "22\n"
     ]
    }
   ],
   "source": [
    "# Exercício 6 - Crie uma variável chamada contador = 0. Enquanto counter for menor que 100, imprima os valores na tela,\n",
    "# mas quando for encontrado o valor 23, interrompa a execução do programa\n",
    "\n",
    "contador = 0\n",
    "\n",
    "while contador < 100:\n",
    "    if contador == 23:\n",
    "        break\n",
    "    \n",
    "    print(contador)\n",
    "    contador +=1"
   ]
  },
  {
   "cell_type": "code",
   "execution_count": 32,
   "metadata": {},
   "outputs": [
    {
     "name": "stdout",
     "output_type": "stream",
     "text": [
      "[4, 6, 8, 10, 12, 14, 16, 18, 20]\n"
     ]
    }
   ],
   "source": [
    "# Exercício 7 - Crie uma lista vazia e uma variável com valor 4. Enquanto o valor da variável for menor ou igual a 20, \n",
    "# adicione à lista, apenas os valores pares e imprima a lista\n",
    "\n",
    "lista = []\n",
    "x = 4\n",
    "\n",
    "while x <= 20:\n",
    "    if x % 2 == 0:\n",
    "        lista.append(x)\n",
    "    \n",
    "    x+=1\n",
    "    \n",
    "print(lista)\n",
    "\n",
    "# outra forma de se obter o resultado seria usando uma forma mais pythonica de se trabalhar\n",
    "# será percorrido o mesmo intervalo de numeros e verificado quais são os numeros pares,\n",
    "# porém essa é uma forma mais rápida e eficiente\n",
    "# lista = [x for x in range(4,21) if x%2 ==0]"
   ]
  },
  {
   "cell_type": "code",
   "execution_count": 33,
   "metadata": {},
   "outputs": [],
   "source": [
    "# Exercício 8 - Transforme o resultado desta função range em uma lista: range(5, 45, 2)\n",
    "nums = range(5, 45, 2)\n",
    "\n",
    "# a transformação de um tipo range para lista pode ser feita usando a função list ou usando o asterisco para extrair\n",
    "# os valores gerados no range. As duas formas são igualmente pythonicas\n",
    "\n",
    "# nums_list = [*nums]\n",
    "nums_list = list(nums)"
   ]
  },
  {
   "cell_type": "code",
   "execution_count": 35,
   "metadata": {},
   "outputs": [
    {
     "name": "stdout",
     "output_type": "stream",
     "text": [
      "Qual a temperatura? 43.5\n",
      "Vista roupas leves.\n"
     ]
    }
   ],
   "source": [
    "# Exercício 9 - Faça a correção dos erros no código abaixo e execute o programa. Dica: são 3 erros.\n",
    "\"\"\"\n",
    "temperatura = float(input('Qual a temperatura? '))\n",
    "if temperatura > 30\n",
    "print('Vista roupas leves.')\n",
    "else\n",
    "    print('Busque seus casacos.')\"\"\"\n",
    "\n",
    "temperatura = float(input('Qual a temperatura? '))\n",
    "if temperatura > 30: #faltava os dois pontos para o comando if\n",
    "    print('Vista roupas leves.') #o alinhamento errado faria com que este comando não estivesse dentro do if\n",
    "else: #faltava os dois pontos para o comando if\n",
    "    print('Busque seus casacos.')"
   ]
  },
  {
   "cell_type": "code",
   "execution_count": 40,
   "metadata": {},
   "outputs": [
    {
     "name": "stdout",
     "output_type": "stream",
     "text": [
      "Existem 6 letras r nas posições:\n",
      "[7, 21, 32, 43, 72, 132]\n"
     ]
    }
   ],
   "source": [
    "# Exercício 10 - Faça um programa que conte quantas vezes a letra \"r\" aparece na frase abaixo. Use um placeholder na \n",
    "# sua instrução de impressão\n",
    "\n",
    "# “É melhor, muito melhor, contentar-se com a realidade; se ela não é tão brilhante como os sonhos, tem pelo menos a \n",
    "# vantagem de existir.” (Machado de Assis)\n",
    "\n",
    "frase = \"É melhor, muito melhor, contentar-se com a realidade; se ela não é tão brilhante como os sonhos, tem pelo menos a vantagem de existir.\" \n",
    "\n",
    "find_letra = 'r'\n",
    "\n",
    "#se o intuito for apenas contar a quantidade de ocorrências de uma letra basta usar frase.count('find_letra')\n",
    "#se estamos interessados no index de cada ocorrência podemos criar uma lista com os indices e seu tamanho será\n",
    "#a quantidade de ocorrências de find_letra\n",
    "\n",
    "#forma pythonica de se criar a lista de indices\n",
    "list_index = [i for i in range(len(frase)) if frase[i] == find_letra]\n",
    "print(f'Existem {len(list_index)} letras {find_letra} nas posições:\\n{list_index}')\n",
    "\n",
    "#forma menos pythonica de se criar a lista de indices\n",
    "#list_index = []\n",
    "#for i in range(len(frase)):\n",
    "#  if frase[i] == find_letra:\n",
    "#    list_index.append(i)\n",
    "\n"
   ]
  },
  {
   "cell_type": "markdown",
   "metadata": {},
   "source": [
    "# Fim"
   ]
  },
  {
   "cell_type": "markdown",
   "metadata": {},
   "source": [
    "### Obrigado\n",
    "\n",
    "### Visite o Blog da Data Science Academy - <a href=\"http://blog.dsacademy.com.br\">Blog DSA</a>"
   ]
  }
 ],
 "metadata": {
  "kernelspec": {
   "display_name": "Python 3",
   "language": "python",
   "name": "python3"
  },
  "language_info": {
   "codemirror_mode": {
    "name": "ipython",
    "version": 3
   },
   "file_extension": ".py",
   "mimetype": "text/x-python",
   "name": "python",
   "nbconvert_exporter": "python",
   "pygments_lexer": "ipython3",
   "version": "3.8.8"
  }
 },
 "nbformat": 4,
 "nbformat_minor": 1
}
